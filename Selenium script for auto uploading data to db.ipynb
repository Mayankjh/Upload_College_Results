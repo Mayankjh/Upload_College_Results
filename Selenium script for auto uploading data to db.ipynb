{
 "cells": [
  {
   "cell_type": "code",
   "execution_count": 2,
   "metadata": {},
   "outputs": [
    {
     "name": "stdout",
     "output_type": "stream",
     "text": [
      "Requirement already satisfied: selenium in c:\\users\\mayank\\appdata\\local\\continuum\\anaconda3\\lib\\site-packages (3.141.0)\n",
      "Requirement already satisfied: urllib3 in c:\\users\\mayank\\appdata\\local\\continuum\\anaconda3\\lib\\site-packages (from selenium) (1.24.3)\n"
     ]
    }
   ],
   "source": [
    "!pip install selenium"
   ]
  },
  {
   "cell_type": "code",
   "execution_count": 5,
   "metadata": {},
   "outputs": [],
   "source": [
    "from selenium import webdriver\n",
    "import time\n",
    "browser = webdriver.Chrome(executable_path= r'chromedriver.exe')\n",
    "url = \"http://127.0.0.1:8000/1\" #For pdf to xls\n",
    "url2 =\"http://127.0.0.1:8000/2\" #upload to db\n",
    "browser.get(url)\n",
    "time.sleep(5)"
   ]
  },
  {
   "cell_type": "markdown",
   "metadata": {},
   "source": [
    "# give path to xls files folder"
   ]
  },
  {
   "cell_type": "code",
   "execution_count": 29,
   "metadata": {
    "scrolled": true
   },
   "outputs": [
    {
     "name": "stdout",
     "output_type": "stream",
     "text": [
      "027_B.Tech CSE Result (Affiliated Institutes)_6th Semester_May 2019 - Copy (2).pdf DONE\n",
      "027_B.Tech CSE Result (Affiliated Institutes)_6th Semester_May 2019 - Copy (3).pdf DONE\n",
      "027_B.Tech CSE Result (Affiliated Institutes)_6th Semester_May 2019 - Copy (4).pdf DONE\n",
      "027_B.Tech CSE Result (Affiliated Institutes)_6th Semester_May 2019 - Copy (5).pdf DONE\n",
      "027_B.Tech CSE Result (Affiliated Institutes)_6th Semester_May 2019 - Copy.pdf DONE\n",
      "027_B.Tech CSE Result (Affiliated Institutes)_6th Semester_May 2019.pdf DONE\n"
     ]
    }
   ],
   "source": [
    "import os\n",
    "#folder containing only pdf files\n",
    "files=[]\n",
    "for root, dirs, files in os.walk(os.path.abspath(\"../Data\")): #give path topdf files\n",
    "    for file in files:\n",
    "        try:\n",
    "            element = browser.find_element_by_name(\"updf\")\n",
    "            element.send_keys(os.path.join(root, file))\n",
    "            upload = browser.find_element_by_xpath('/html/body/div[1]/div[2]/div/form/button')\n",
    "            upload.click()\n",
    "            time.sleep(5)\n",
    "            print(file, 'DONE')\n",
    "        except:\n",
    "            pass\n"
   ]
  },
  {
   "cell_type": "code",
   "execution_count": 30,
   "metadata": {},
   "outputs": [],
   "source": [
    "#Navigating to upload xls page in browser\n",
    "browser.get(url2)\n",
    "time.sleep(5)"
   ]
  },
  {
   "cell_type": "markdown",
   "metadata": {},
   "source": [
    "# give path to xls files folder"
   ]
  },
  {
   "cell_type": "code",
   "execution_count": null,
   "metadata": {},
   "outputs": [],
   "source": [
    "#change path for xls files\n",
    "files=[]\n",
    "for root, dirs, files in os.walk(os.path.abspath(\"../Data/Xls folder/\")):# give path to xls files\n",
    "    for file in files:\n",
    "        try:\n",
    "            element = browser.find_element_by_xpath('//*[@id=\"filediv\"]/div[1]/input')\n",
    "            element.send_keys(os.path.join(root, file))\n",
    "            upload = browser.find_element_by_xpath('/html/body/div/div[2]/div/form/button')\n",
    "            upload.click()\n",
    "            time.sleep(5)\n",
    "            print(file, 'DONE')\n",
    "        except:\n",
    "            pass"
   ]
  },
  {
   "cell_type": "markdown",
   "metadata": {},
   "source": [
    "## You are all set to go all files uploaded"
   ]
  },
  {
   "cell_type": "code",
   "execution_count": null,
   "metadata": {},
   "outputs": [],
   "source": []
  }
 ],
 "metadata": {
  "kernelspec": {
   "display_name": "Python 3",
   "language": "python",
   "name": "python3"
  },
  "language_info": {
   "codemirror_mode": {
    "name": "ipython",
    "version": 3
   },
   "file_extension": ".py",
   "mimetype": "text/x-python",
   "name": "python",
   "nbconvert_exporter": "python",
   "pygments_lexer": "ipython3",
   "version": "3.6.7"
  }
 },
 "nbformat": 4,
 "nbformat_minor": 2
}
